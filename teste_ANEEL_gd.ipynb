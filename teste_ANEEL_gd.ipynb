{
  "nbformat": 4,
  "nbformat_minor": 0,
  "metadata": {
    "colab": {
      "provenance": [],
      "mount_file_id": "1qQBMndcZzyt6nYgWp23RJkdgBjXBLTR_",
      "authorship_tag": "ABX9TyOUvvv7E1xHS5lbuQA5sT6N"
    },
    "kernelspec": {
      "name": "python3",
      "display_name": "Python 3"
    },
    "language_info": {
      "name": "python"
    }
  },
  "cells": [
    {
      "cell_type": "code",
      "execution_count": null,
      "metadata": {
        "id": "nXMae9_Wjbih"
      },
      "outputs": [],
      "source": [
        "import pandas as pd\n",
        "import requests\n",
        "import json\n",
        "from pandas import json_normalize\n",
        "import numpy as np\n",
        "import re"
      ]
    },
    {
      "cell_type": "code",
      "source": [
        "def get_GD_data(url):\n",
        "  url = url\n",
        "  #buscando dados da API#######\n",
        "  #fazendo o request da web page e retornando um objeto json\n",
        "  response = requests.get(url).json()\n",
        "  r = json.dumps(response)\n",
        "  #converse a str json para py dict \n",
        "  loaded_r = json.loads(r)\n",
        "  #busca a tabela de dados desejada\n",
        "  df_aneel = json_normalize(loaded_r['result']['records'])\n",
        "  #filtra as colunas\n",
        "  dados_aneel = df_aneel.loc[:, ['DatGeracaoConjuntoDados',\n",
        "                              'SigAgente', 'DscClasseConsumo', \n",
        "                              'DscClasseConsumo', 'CodSubGrupoTarifario', \n",
        "                              'DscSubGrupoTarifario', 'SigUF', 'NomRegiao', \n",
        "                              'NomMunicipio', 'SigTipoConsumidor', 'NumCPFCNPJ',\n",
        "                              'SigModalidadeEmpreendimento', 'SigTipoGeracao', \n",
        "                              'DscPorte', 'NumCoordNEmpreendimento', 'NumCoordEEmpreendimento',\n",
        "                              'MdaPotenciaInstaladaKW']]\n",
        "  #buscas as linhas referentes a geração no RN\n",
        "  #dados_aneel = dados_aneel.loc[dados_aneel.SigUF == 'RN', :]\n",
        "  #remove linhas sem a informação da UF\n",
        "  dados_aneel = dados_aneel.dropna(subset=['SigUF'])\n",
        "  #filtra dados de apenas usinas fotovoltaicas \n",
        "  dados_aneel = dados_aneel.loc[dados_aneel.SigTipoGeracao == 'UFV', :]\n",
        "  #cria novas colunas referentes ao mês e ano (pode ajudar na fase de visualização gráfica)\n",
        "  col_data = pd.DatetimeIndex(dados_aneel['DatGeracaoConjuntoDados'])\n",
        "  dados_aneel['Ano'] = col_data.year\n",
        "  dados_aneel['Mes'] = col_data.month_name()\n",
        "  #converte os valores objeto --> float\n",
        "  dados_aneel['MdaPotenciaInstaladaKW'] = dados_aneel['MdaPotenciaInstaladaKW'].str.replace(',', '.').astype(float)\n",
        "\n",
        "  return dados_aneel.to_csv('/content/drive/MyDrive/Data_analsys/Dados_ANEEL.csv')\n",
        "\n",
        "\n",
        "\n",
        "\n",
        "\n"
      ],
      "metadata": {
        "id": "TAZoCR-eju2u"
      },
      "execution_count": null,
      "outputs": []
    },
    {
      "cell_type": "code",
      "source": [
        "url = 'https://dadosabertos.aneel.gov.br/api/3/action/datastore_search?resource_id=b1bd71e7-d0ad-4214-9053-cbd58e9564a7&q=RN&limit=32000'\n",
        "#!wget -p '/content/drive/MyDrive/Data_analsys'\n",
        "get_GD_data(url)\n"
      ],
      "metadata": {
        "id": "QJO9taGbqlOI"
      },
      "execution_count": null,
      "outputs": []
    }
  ]
}